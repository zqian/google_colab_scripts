{
  "nbformat": 4,
  "nbformat_minor": 0,
  "metadata": {
    "colab": {
      "name": "Rubric Item Report",
      "provenance": [],
      "authorship_tag": "ABX9TyM8RT7i6rSudN2+6CYlGqF1",
      "include_colab_link": true
    },
    "kernelspec": {
      "name": "python3",
      "display_name": "Python 3"
    },
    "language_info": {
      "name": "python"
    }
  },
  "cells": [
    {
      "cell_type": "markdown",
      "metadata": {
        "id": "view-in-github",
        "colab_type": "text"
      },
      "source": [
        "<a href=\"https://colab.research.google.com/github/zqian/google_colab_scripts/blob/main/Rubric_Item_Report.ipynb\" target=\"_parent\"><img src=\"https://colab.research.google.com/assets/colab-badge.svg\" alt=\"Open In Colab\"/></a>"
      ]
    },
    {
      "cell_type": "markdown",
      "source": [
        "Based on this [Canvas Idea Conversation](https://community.canvaslms.com/t5/Idea-Conversations/Export-aggregate-rubric-scores-to-identify-strengths-and/idi-p/370265/page/3?emcs_t=S2h8ZW1haWx8ZGlnZXN0X25vdGlmaWNhdGlvbnxLWU9HSEw3TFIzVVpFOHwtMXxPVEhFUlN8aEs#comments), here is a PoC script to generate a csv file that shows the rubric line item scores for all student submissions."
      ],
      "metadata": {
        "id": "I69qFOzw4b64"
      }
    },
    {
      "cell_type": "markdown",
      "source": [
        "**Install Python Libraries**"
      ],
      "metadata": {
        "id": "TkrZ5-d97xQU"
      }
    },
    {
      "cell_type": "code",
      "execution_count": null,
      "metadata": {
        "id": "gbRAaNHr4U-k"
      },
      "outputs": [],
      "source": [
        "# install all libraries\n",
        "!pip install canvasapi\n",
        "!pip install future-fstrings\n",
        "!pip install pandas"
      ]
    },
    {
      "cell_type": "markdown",
      "source": [
        "**Step 1: get Canvas credentials**\n",
        "\n",
        "*   Log into Canvas instance\n",
        "*   Go to \"Account\"-> \"Settings\" -> \"+ New Access Token\". You can name it as \"Rubric Ttem Report\", and leave the \"Expires\" field empty for no expiration. Click on \"Generate Token\"\n",
        "*   Copy the token into next section"
      ],
      "metadata": {
        "id": "JI46VV7R8FTJ"
      }
    },
    {
      "cell_type": "code",
      "source": [
        "from canvasapi import Canvas\n",
        "from canvasapi.assignment import (\n",
        "    Assignment,\n",
        "    AssignmentExtension,\n",
        "    AssignmentGroup,\n",
        "    AssignmentOverride,\n",
        ")\n",
        "\n",
        "from canvasapi.rubric import Rubric, RubricAssociation\n",
        "from canvasapi.submission import GroupedSubmission, Submission\n",
        "import pandas as pd\n",
        "\n",
        "from google.colab import userdata\n",
        "CANVAS_URL = userdata.get('CANVAS_URL')\n",
        "CANVAS_API_KEY = userdata.get('CANVAS_API_KEY')\n",
        "CANVAS_COURSE_ID = userdata.get('CANVAS_COURSE_ID')\n",
        "CANVAS_ASSIGNMENT_ID = userdata.get('CANVAS_ASSIGNMENT_ID')\n",
        "CANVAS_QUIZ_ID = userdata.get('CANVAS_QUIZ_ID')"
      ],
      "metadata": {
        "id": "z1OKTnNU9LNZ"
      },
      "execution_count": null,
      "outputs": []
    },
    {
      "cell_type": "markdown",
      "source": [
        "**Step 2: Retrieve assignment and its rubric settings**"
      ],
      "metadata": {
        "id": "h9AeXSHAE3i2"
      }
    },
    {
      "cell_type": "code",
      "source": [
        "# for quiz\n",
        "# init CanvasAPI library\n",
        "# get course, quiz with rubric settings\n",
        "canvas = Canvas(CANVAS_URL, CANVAS_API_KEY)\n",
        "course = canvas.get_course(CANVAS_COURSE_ID)\n",
        "\n",
        "# NOTE: if you start with quiz, make sure to get its associated assignment first\n",
        "quiz = course.get_quiz(CANVAS_QUIZ_ID, include=['overrides'])\n",
        "print(quiz.title)\n",
        "print(quiz.quiz_type)\n",
        "assignment_id = quiz.assignment_id\n",
        "print(assignment_id)\n",
        "assignment = course.get_assignment(assignment_id)\n",
        "assignment_name = assignment.name\n",
        "print(assignment_name)"
      ],
      "metadata": {
        "id": "uipw-WIAU6Gj"
      },
      "execution_count": null,
      "outputs": []
    },
    {
      "cell_type": "code",
      "source": [
        " # Otherwise, get the assignment based on assignment id\n",
        "\n",
        "assignment = course.get_assignment(CANVAS_ASSIGNMENT_ID, include=['overrides'])\n",
        "assignment_name = assignment.name"
      ],
      "metadata": {
        "id": "kqEmCVlxmIKX"
      },
      "execution_count": null,
      "outputs": []
    },
    {
      "cell_type": "code",
      "source": [
        "\n",
        "# get assignment rubric settings object; retrieve the rubric id\n",
        "assignment_rubric_settings = assignment.rubric_settings\n",
        "assignment_rubric_id = assignment_rubric_settings['id']\n",
        "assignment_rubric_title = assignment_rubric_settings['title']\n",
        "assignment_rubric_points_possible = assignment_rubric_settings['points_possible']\n",
        "\n",
        "# get rubric settings\n",
        "rubric_settings = assignment.rubric\n",
        "for setting in rubric_settings:\n",
        "  print(f\"{setting['id']} {setting['description']}\")"
      ],
      "metadata": {
        "id": "oo0jz7CKJkfe"
      },
      "execution_count": null,
      "outputs": []
    },
    {
      "cell_type": "markdown",
      "source": [
        "**Step 3: iterating through assignment submissions. Output csv report file for each rubric criteria**"
      ],
      "metadata": {
        "id": "x5CJoNWXFCSH"
      }
    },
    {
      "cell_type": "code",
      "source": [
        "from google.colab import files\n",
        "import os\n",
        "\n",
        "submissions = assignment.get_submissions(include=['rubric_assessment'])\n",
        "\n",
        "for setting in rubric_settings:\n",
        "  print(f\"{setting['id']} {setting['description']}\")\n",
        "  rubric_item_id = setting['id']\n",
        "  rubric_item_description = setting['description']\n",
        "\n",
        "  # the output csv file columns\n",
        "  # you can modify the column to include other attributes, e.g. student name, points_possible, etc\n",
        "  df = pd.DataFrame(columns = [\"user_id\", \"points\", \"comments\"])\n",
        "  for submission in submissions:\n",
        "    try:\n",
        "      if submission.rubric_assessment:\n",
        "        # Access rubric assessment data within a try-except block\n",
        "        try:\n",
        "          points = submission.rubric_assessment[rubric_item_id]['points']\n",
        "        except KeyError:\n",
        "          points = float('nan')  # Assign NaN for missing points\n",
        "        try:\n",
        "          comments = submission.rubric_assessment[rubric_item_id]['comments']\n",
        "        except KeyError:\n",
        "          comments = ''  # Assign empty string for missing comments\n",
        "\n",
        "        # Now you can create the DataFrame row using the obtained values\n",
        "        row = {\"user_id\": submission.user_id,\n",
        "              \"points\": points,\n",
        "              \"comments\": comments}\n",
        "\n",
        "        new_row = pd.DataFrame(row, index=[0])  # Provide an index\n",
        "        df = pd.concat([df, new_row], ignore_index=True)\n",
        "    except Exception as e:\n",
        "      print(f\"no rubric assessment for submission {submission}: {e}\")\n",
        "\n",
        "  # the output file is named after \"{assignment_name}_{rubric_item_description}_report.csv\"\n",
        "  # you can change the file name format acoordingly\n",
        "  download_file_name = f\"{assignment_name}_{rubric_item_description}_report.csv\"\n",
        "  # Sanitize the filename by replacing invalid characters\n",
        "  download_file_name = \"\".join(c for c in download_file_name if c.isalnum() or c in (\"_\", \".\", \"-\")).rstrip()\n",
        "\n",
        "  # Create the directory if it doesn't exist\n",
        "  directory = os.path.dirname(download_file_name)\n",
        "  if directory and not os.path.exists(directory):\n",
        "    os.makedirs(directory)\n",
        "  df.to_csv(download_file_name, index=False)\n",
        "  files.download(download_file_name)"
      ],
      "metadata": {
        "id": "ICpSiLjKAmre"
      },
      "execution_count": null,
      "outputs": []
    },
    {
      "cell_type": "markdown",
      "source": [],
      "metadata": {
        "id": "xSXRXTov4Yzh"
      }
    }
  ]
}